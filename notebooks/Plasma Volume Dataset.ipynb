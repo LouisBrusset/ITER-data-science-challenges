{
 "cells": [
  {
   "cell_type": "markdown",
   "id": "79b1f050",
   "metadata": {},
   "source": [
    "# Plasma Volume Dataset Preparation\n",
    "\n",
    "## Introduction\n",
    "\n",
    "This notebook demonstrates using the FAIR-MAST API to download and prepare datasets for the Data Science Challenges. The download process accommodates the large file sizes of Plasma Volume and Equilibrium challenge files that exceed standard git repository limits. These steps showcase common data preparation techniques for real-world machine learning projects.\n",
    "\n",
    "By studying the API commands alongside the [FAIR-MAST](https://mastapp.site/) documentation, you can extend these examples to build better inference engines and explore MAST data to create your own tools.\n",
    "\n",
    "## Purpose\n",
    "\n",
    "This notebook will:\n",
    "1. Demonstrate FAIR-MAST data access methods\n",
    "2. Download datasets for the Plasma Volume and Equilibrium challenges\n",
    "3. Process data through interpolation, formatting, and concatenation\n",
    "4. Provide a foundation for building custom inference tools"
   ]
  },
  {
   "cell_type": "markdown",
   "id": "7b69cd89",
   "metadata": {},
   "source": [
    "## Data Preprocessing\n",
    "\n",
    "This section offers utility functions for accessing the FAIR-MAST object store. Our machine learning tools require data with specific dimensions:\n",
    "\n",
    "- **Signals**: Shape (n, ...) where n represents time points (samples)\n",
    "- **Targets**: Shape (n, m) where n represents time points (samples) and m represents output features\n",
    "\n",
    "The preprocessing workflow addresses these key challenges with MAST data:\n",
    "\n",
    "1. **Time Base Standardization**: Interpolates data from different sampling rates onto one common time base\n",
    "2. **Dimension Ordering**: Transposes data so time always appears as the first dimension (n)\n",
    "3. **Data Concatenation**: Merges data from multiple shots and diagnostics into a unified dataset while preserving metadata\n",
    "\n",
    "These preprocessing steps create well-structured datasets ready for machine learning model development."
   ]
  },
  {
   "cell_type": "markdown",
   "id": "e2ba2049",
   "metadata": {},
   "source": [
    "## Dataset Preparation for Plasma Volume Challenge\n",
    "\n",
    "The Plasma Volume challenge requires predicting the volume of a plasma from a single camera frame. This section outlines the complete dataset preparation pipeline, from data acquisition to the creation of train/test splits.\n",
    "\n",
    "### Preparation Steps\n",
    "\n",
    "1. **Data Source**: The dataset uses camera frames from the M9 campaign captured at the precise moment of maximum plasma volume for each shot.\n",
    "\n",
    "2. **Data Extraction**: For each shot, we extract:\n",
    "   - Camera frames from the MAST database\n",
    "   - Corresponding plasma volume measurements\n",
    "   - Timing information to align frames with maximum volume events\n",
    "\n",
    "3. **Dataset Organization**: \n",
    "   - Images are grouped by their resolution (640x448 resolution selected for the challenge)\n",
    "   - Training/test split uses a 70/30 ratio with a fixed random seed (7) for reproducibility\n",
    "   - Test set plasma volume values are saved separately as ground truth\n",
    "\n",
    "4. **Data Storage**: \n",
    "   - Uses NetCDF format for efficient storage of multi-dimensional data\n",
    "   - Implements caching with pickle files to avoid repeated expensive data retrieval\n",
    "\n",
    "These steps create a standardized dataset that enables consistent evaluation across different machine learning approaches.\n",
    "\n",
    "### Camera Data Processing\n",
    "\n",
    "These functions retrieve and process camera data for the Plasma Volume Data Science Challenge. Downloading the complete dataset requires approximately 20 minutes with a fast internet connection. The code implements a caching strategy that stores processed data locally, eliminating the need to repeat this time-consuming download process.\n",
    "\n",
    "### How the Camera Data Processing Scripts Work\n",
    "\n",
    "1. **Data Collection**: The `build_camera_data()` function accesses M9 campaign shots and extracts camera frames at the moment of maximum plasma volume.\n",
    "\n",
    "2. **Efficient Caching**: The `load_camera_data()` function uses pickle files as a local cache to avoid rebuilding this computationally expensive dataset.\n",
    "\n",
    "3. **Challenge Dataset Creation**: The code pairs extracted camera frames with their plasma volume values to create a supervised learning dataset.\n",
    "\n",
    "### Data Processing Flow\n",
    "\n",
    "1. The code fetches the moment of maximum plasma volume for each shot from MAST metadata\n",
    "2. It retrieves the camera frame nearest to that exact moment\n",
    "3. Each frame links to its corresponding plasma volume measurement\n",
    "4. Frames organize by resolution/dimension\n",
    "5. The data splits into training and test sets for the challenge\n",
    "\n",
    "This preprocessing workflow handles the computational demands of accessing numerous M9 campaign shots and extracting precisely timed frames from maximum volume events."
   ]
  },
  {
   "cell_type": "code",
   "execution_count": 1,
   "id": "bbbc3700",
   "metadata": {},
   "outputs": [],
   "source": [
    "import pathlib\n",
    "import pickle\n",
    "\n",
    "import matplotlib.pyplot as plt\n",
    "import numpy as np\n",
    "import pandas as pd\n",
    "import seaborn as sns\n",
    "import tqdm\n",
    "import xarray as xr"
   ]
  },
  {
   "cell_type": "code",
   "execution_count": 2,
   "id": "0a6430d1",
   "metadata": {},
   "outputs": [
    {
     "name": "stdout",
     "output_type": "stream",
     "text": [
      "Shot_data:  {'@context': {'dct': 'http://purl.org/dc/terms/', 'dqv': 'http://www.w3.org/ns/dqv#', 'url': 'schema:url', 'dcat': 'http://www.w3.org/ns/dcat#', 'foaf': 'http://xmlns.com/foaf/0.1/', 'uuid': 'dct:identifier', 'title': 'dct:title', 'schema': 'https://schema.org', 'timestamp': 'dct:date', 'sdmx-measure': 'http://purl.org/linked-data/sdmx/2009/measure#'}, '@type': 'dcat:Dataset', 'title': 'Shot Dataset', 'shot_id': 30421, 'uuid': '049a96a1-07f9-5887-8767-81d7957f63b8', 'url': 's3://mast/level1/shots/30421.zarr', 'endpoint_url': 'https://s3.echo.stfc.ac.uk', 'timestamp': '2013-09-25T11:52:00', 'preshot_description': '\\nReload Scenario 3 based on 30419 - increase IELM to 1.4 kA bring start 20 ms earlier\\n', 'postshot_description': '\\ngood shot with good beam -all ELM coils fired  \\n', 'campaign': 'M9', 'reference_shot': 30419, 'scenario': 6, 'heating': '2 Beams,SS Beam,SW Beam', 'pellets': False, 'rmp_coil': True, 'mcs_gdc_pre_shot': None, 'mcs_select_gas_group_pv1': None, 'mcs_select_gas_group_pv2': None, 'mcs_select_gas_group_pv3': None, 'mcs_select_gas_group_pv4': None, 'mcs_select_gas_group_pv5': None, 'mcs_select_gas_group_pv6': None, 'mcs_select_gas_group_pv7': None, 'mcs_select_gas_group_pv8': None, 'mcs_select_gas_group_pv9': None, 'mcs_select_lvps_tf_power_supply': None, 'mcs_select_cp3s_start_bank': None, 'mcs_select_fa1': None, 'mcs_select_fa2': None, 'mcs_select_mfps': None, 'mcs_select_efps': None, 'mcs_select_sfps': None, 'mcs_select_scs4': None, 'mcs_select_fa3': None, 'mcs_select_fa4': None, 'mcs_select_p1ps': None, 'mcs_select_cp3c_counterpulse_bank': None, 'mcs_select_cp4_start_bank': None, 'mcs_select_cp5_start_bank': None, 'mcs_select_p3p': None, 'mcs_select_p4': None, 'mcs_select_p5': None, 'mcs_select_ecrh': None, 'mcs_select_xmm_os9': None, 'mcs_select_xpc_os9': None, 'mcs_select_xcm_os9': None, 'mcs_select_xmw_os9': None, 'mcs_select_xma_os9': None, 'mcs_ss_nbi_gas': None, 'mcs_sw_nbi_gas_mcs': None, 'mcs_cp3s_volt': None, 'mcs_cp3c_volt': None, 'mcs_cp4s_volt': None, 'mcs_cp5s_volt': None, 'mcs_additive_gas_pressure': None, 'mcs_plenum_gas_pressure': None, 'mcs_tg1_base_pressure': None, 'mcs_p3_direction': None, 'mcs_p4_direction': None, 'mcs_p5_direction': None, 'mcs_ss_number': None, 'mcs_pshot_gdc_time': None, 'mcs_gdc_start_time': None, 'mcs_gas_puff_pressure': None, 'mcs_gas_puff_start_time': None, 'mcs_gas_puff_duration': None, 'mcs_p2xo': None, 'mcs_p2xo_start_forward': None, 'mcs_p2xo_start_reverse': None, 'mcs_tf_flat_top_value': None, 'mcs_tf_flat_top_time': None, 'mcs_tf_rise_time_value': None, 'mcs_plasma_direction': None, 'mcs_p2_config': None, 'mcs_cp3s_start_time': None, 'mcs_cp3c_start_time': None, 'mcs_cp4_start_time': None, 'mcs_p4_ignitron_start_time': None, 'mcs_p4_thyristor_start_time': None, 'mcs_cp5_start_time': None, 'mcs_p5_ignitron_start_time': None, 'mcs_p5_thyristor_start_time': None, 'mcs_mfps_current_limit': None, 'mcs_mfps_start_time': None, 'mcs_efps_current_limit': None, 'mcs_efps_start_time': None, 'mcs_sfps_current_limit': None, 'mcs_sfps_start_time': None, 'mcs_mfps_duration': None, 'mcs_efps_duration': None, 'mcs_sfps_duration': None, 'mcs_p1ps_pos_current_limit': None, 'mcs_p1ps_negative_current_limit': None, 'mcs_p1ps_start_time': None, 'mcs_p1ps_duration': None, 'mcs_fa1_start_time': None, 'mcs_fa1_duration': None, 'mcs_fa2_start_time': None, 'mcs_fa2_duration': None, 'mcs_fa3_start_time': None, 'mcs_fa3_duration': None, 'mcs_fa4_start_time': None, 'mcs_fa4_duration': None, 'mcs_scs4_start_time': None, 'mcs_scs4_duration': None, 'shot_abort': None, 'generic_minor_radius_max_current': 0.5684657642672712, 'generic_minor_radius': 0.58778757, 'generic_minor_radius_ruby_time': None, 'generic_poloidal_area_max_current': 1.4677420319308705, 'generic_max_poloidal_area': 1.5800247, 'generic_poloidal_area_ruby_time': None, 'generic_beta_poloidal_max_current': 0.3244858643833389, 'generic_max_beta_poloidal': 0.633384, 'generic_beta_poloidal_ruby_time': None, 'generic_beta_time_max_current': 3.9205225012247933, 'generic_max_beta_max_current': 10.014311, 'generic_beta_ruby_time': None, 'generic_toroidal_max_current': -0.4707894071339923, 'generic_max_toroidal': -0.40732414, 'generic_toroidal_ruby_time': None, 'radii_c2ratio': 0.5660256, 'gas_col_temp_in': None, 'gas_col_temp_out': None, 'shot_creation_date': '2013-09-25T00:00:00', 'generic_dt_energy_max_current': 287051.20407408744, 'generic_dt_total_energy': 6711030.0, 'generic_dt_energy_ruby_time': None, 'nbi_energy_ss_max_power': 70.86978763580322, 'nbi_energy_sw_max_power': 61.3639054107666, 'shot_experiment_date': '2013-09-25T00:00:00', 'shot_experiment_number': 30421, 'shot_experiment_time': '12:52:00', 'shot_experiment_tags': 'M9-MHD-04', 'shot_flat_top_duration': None, 'shot_glow_discharge_duration': 8.0, 'shot_glow_discharge_time': 12.45, 'gas_inboard_pressure_pre_pulse': None, 'plasma_time_avg_current': 628.1993, 'plasma_time_all_avg_current': 532.589111328125, 'plasma_max_current': 641.5797729492188, 'nbi_injected_energy_max_current': 0.11865450631761783, 'nbi_injected_energy_ss_max_current': 0.011027159313126087, 'nbi_injected_energy_max': 0.6437575379989227, 'nbi_energy_ss_max_current': 0.44631985, 'nbi_energy_sw_max_current': 0.6665050302993818, 'nbi_total_injected_energy': 1.6130902733040353, 'nbi_total_injected_energy_ss': 0.9351948735312319, 'nbi_total_injected_energy_sw': 0.6775710893562096, 'nbi_injected_energy_ruby_time': 0.000194587, 'nbi_injected_energy_ss_ruby_time': 0.000198263, 'nbi_injected_energy_sw_ruby_time': None, 'ohmnic_energy_max_current': 0.13562658558140647, 'ohmnic_energy_max_heating': None, 'ohmnic_energy_total': 0.255339975096412, 'ohmnic_energy_ruby_time': None, 'generic_plasma_elongation_max_current': 1.5187504397775653, 'generic_plasma_elongation_max': 1.6238846, 'generic_plasma_elongation_ruby_time': None, 'equi_li2_max_current': 1.1135758, 'equi_max_li2': 10.447104, 'equi_li2_ruby_time': None, 'equi_li3_max_current': 0.9469658, 'equi_max_li3': 9.997845, 'equi_li3_ruby_time': None, 'gas_tg1_pressure_ps': None, 'thomson_density_line_max_current': 1.02034e+20, 'thomson_max_density_line': 1.56886e+20, 'thomson_density_line_ruby_time': None, 'thomson_density_max_current': 2.89511217995327e+19, 'thomson_density_max': 4.2351182e+19, 'thomson_density_ruby_time': None, 'thomson_ne0_rat_line_avg_ne': 1.3285042826170823, 'thomson_line_avg_density_co2': 2.1792268326377193e+19, 'thomson_greenwald_density_limit': 6.76201203633921e+19, 'thomson_greenwald_rat_line_avg_density': 3.442193043087671, 'rad_o2ratio': 0.147536, 'shot_objective': \"'1. Perform RMP in LSND 400kA plasmas2. Perform RMP at low and high collisionality3. Perform low collisionality shots (high TF/P1)4. Pellets in n=65. DBS measurements6. RT-EFIT (postponed to 26/09/13 as require only South)7. Magnetics calibration (15:30 onwards)*** RMP config 48***'\", 'thomson_pressure_max_current': 5008.560131780257, 'thomson_pressure_max': 6295.88623046875, 'thomson_pressure_ruby_time': None, 'thomson_pressure_ruby': None, 'shot_physicist': \"'AK/MV/JH/JS/RM/NBA'\", 'nbi_power_max_current': 6.3824837e-06, 'nbi_power_ss_max_current': 2.0940735, 'nbi_power_max_power': 3.5040576, 'nbi_power_max_ss': 1.9791504, 'nbi_power_max_sw': 1.5315771, 'nbi_power_ruby_time': None, 'nbi_power_truby_ss': None, 'nbi_power_truby_sw': None, 'ohmnic_heating_max_current': 0.647678123508648, 'ohmnic_max_heating': 15.968534, 'ohmnic_heating_ruby_time': None, 'shot_postshot_comment': \"'good shot with good beam -all ELM coils fired'\", 'generic_rad_power_loss_max_current': 274046.08029078384, 'generic_max_power_loss': 306013.53, 'generic_power_loss_ruby_time': None, 'rad_flat_top_power_rat_avg_line_density': 0.17395901149050308, 'shot_preshot_comment': \"'Reload Scenario 3 based on 30419 - increase IELM to 1.4 kA bring start 20 ms earlier'\", 'shot_program': \"'RMP in LSN 400kA plasmas RMP at high and low collisionality Low collisionality Pellets DBS RT-EFIT'\", 'shot_pulse_number': None, 'generic_q95_max_current': 6.197453077545845, 'generic_min_q95': 2.7848618, 'generic_q95_ruby_time': None, 'shot_reference': 30419.0, 'generic_geo_radius_max_current': 0.7643843036977668, 'generic_max_geo_radius': 0.9189842, 'generic_geo_radius_ruby_time': None, 'radii_rinner_radius_d_alpha': 0.21704547, 'radii_rinner_radius_efit': 0.18334245681762695, 'radii_router_radius_d_alpha': 1.3109571, 'radii_router_radius_efit': 1.3204246, 'radii_s_area_max_current': 20.054036875822632, 'generic_s_area_max': 23.773361, 'generic_s_area_ruby_time': None, 'cpf_sc': None, 'shot_scenario': 'S3', 'shot_summary': \"'DBS 2 good shotsMHD-001 1 shotMHD-004 - 4 shotsTC-002 Pellets 2 shotsTC-004 low nustar 3 shots1 attempt at intrinsic rotation did not work could not achieve a high enough density'\", 'generic_min_radius_max_plasma': 0.175, 'generic_energy_time_max_current': 0.018728826211360763, 'generic_max_energy_time': 0.029671675, 'generic_energy_time_ruby_time': None, 'generic_max_beta_poloidal_mhd': 0.32999998, 'generic_max_beta_mhd': 0.32999998, 'generic_max_toroidal_time': 0.565, 'generic_max_dt_mhd_energy_time': 0.03, 'thomson_temp_max_current': 1089.304410849248, 'thomson_temp_max': 1294.6083, 'thomson_temp_ruby_time': None, 'thomson_temp_rat_line_avg_temp': 1.9472922290826726, 'thomson_temp_ruby': None, 'thomson_yag_line_avg_temp': 559.394421946826, 'plasma_end_time': 0.6063998, 'gas_puff_end_time': None, 'nbi_end_time': 0.60995, 'nbi_end_time_ss': 0.6099000000000001, 'shot_end_code': None, 'plasma_flat_top_end_time': 0.5039997, 'plasma_flat_top_start_time': 0.119799614, 'plasma_max_plasma_current_time': 0.15959978, 'generic_max_plasma_elongation_time': 0.17, 'equi_max_li2_time': 0.03, 'equi_max_li3_time': 0.03, 'thomson_max_density_line_time': 0.50512, 'thomson_max_density_time': 0.39583257, 'thomson_max_pressure_time': 0.25416592, 'nbi_max_power_time': 0.3196, 'nbi_max_ss_power_time': 0.33969998, 'nbi_max_sw_power_time': 0.6025500000000001, 'ohmnic_max_heating_time': 0.03, 'generic_max_plasma_power_loss_time': 0.3692, 'generic_min_q95_time': 0.5, 'generic_max_geo_major_radius_time': 0.565, 'thomson_ruby_time': None, 'generic_max_plasma_s_area_time': 0.35, 'gas_puff_start_time': None, 'nbi_start_time': 0.10094999999999998, 'nbi_ss_start_time': 0.10095, 'nbi_sw_start_time': 0.14095000000000002, 'generic_max_total_energy_time': 0.089999996, 'thomson_max_temp_time': 0.31249925, 'generic_max_plasma_vol_time': 0.22999999, 'generic_max_mhd_energy_time': 0.32999998, 'generic_max_plasma_zeff_time': None, 'shot_useful': 1.0, 'generic_plasma_vol_max_current': 6.602674473123109, 'generic_max_plasma_vol': 7.581215, 'generic_plasma_vol_ruby_time': None, 'generic_energy_current_max': 43814.8741906657, 'generic_energy_max': 88042.51, 'generic_energy_ruby_time': None, 'generic_plasma_zeff_max_current': None, 'generic_plasma_zeff_max': None, 'generic_plasma_zeff_ruby_time': None, 'rad_magnetic_height_efit': -0.16998443, 'current_range': '700 kA', 'divertor_config': 'Conventional', 'plasma_shape': 'Lower Single Null', 'commissioner': None, 'facility': 'MAST', 'radii_magnetic:radius_efit': 0.8647926}\n",
      "Endpoint:  https://s3.echo.stfc.ac.uk\n",
      "URL:  s3://mast/level1/shots/30421.zarr\n",
      "Shot_url:  https://s3.echo.stfc.ac.uk/mast/level1/shots/30421.zarr\n"
     ]
    }
   ],
   "source": [
    "import requests\n",
    "\n",
    "shot_data = requests.get(\"https://mastapp.site/json/shots/30421\").json()\n",
    "print(\"Shot_data: \", shot_data)\n",
    "endpoint, url = shot_data[\"endpoint_url\"], shot_data[\"url\"]\n",
    "print(\"Endpoint: \", endpoint)\n",
    "print(\"URL: \", url)\n",
    "shot_url = url.replace(\"s3:/\", endpoint)\n",
    "print(\"Shot_url: \", shot_url)"
   ]
  },
  {
   "cell_type": "code",
   "execution_count": 3,
   "id": "517f65fd",
   "metadata": {},
   "outputs": [],
   "source": [
    "def to_dask(shot: int, group: str, level: int = 2) -> xr.Dataset:\n",
    "    \"\"\"Return a Dataset from the MAST Zarr store.\"\"\"\n",
    "    return xr.open_zarr(\n",
    "        f\"https://s3.echo.stfc.ac.uk/mast/level{level}/shots/{shot}.zarr\",\n",
    "        group=group,\n",
    "    )\n"
   ]
  },
  {
   "cell_type": "code",
   "execution_count": 4,
   "id": "c77c7f8e",
   "metadata": {},
   "outputs": [],
   "source": [
    "def build_camera_data():\n",
    "    \"\"\"\n",
    "    Retrieve camera frames from shots in the M9 campaign at the moment of maximum plasma volume.\n",
    "    \n",
    "    Returns a dictionary of camera datasets organized by image dimensions, containing frames\n",
    "    captured at the time of maximum plasma volume for each shot in the campaign.\n",
    "    \"\"\"\n",
    "    URL = \"https://mastapp.site\"\n",
    "    summary = pd.read_parquet(f'{URL}/parquet/level2/shots?filters=campaign$eq:M9')\n",
    "    summary = summary.loc[:, [\"shot_id\", \"campaign\", \"cpf_tvol_max\", \"cpf_vol_max\"]]\n",
    "    summary = summary.dropna(subset=\"cpf_tvol_max\")\n",
    "\n",
    "    dataset = {}\n",
    "    for _, (shot_id, time_vol_max, vol_max) in tqdm.tqdm(\n",
    "        summary.loc[:, [\"shot_id\", \"cpf_tvol_max\", \"cpf_vol_max\"]].iterrows(), \n",
    "        desc=\"Loading camera data\",\n",
    "        total=summary.shape[0]\n",
    "        ):\n",
    "\n",
    "        try:\n",
    "            frames = to_dask(int(shot_id), \"rbb\", level=1)\n",
    "            frame = frames.sel(time=time_vol_max, method=\"nearest\")\n",
    "            frame.load()\n",
    "            frame.coords[\"shot_id\"] = shot_id\n",
    "            frame.coords[\"volume\"] = vol_max\n",
    "\n",
    "            key = tuple(frame.shape[1:])\n",
    "            try:\n",
    "                dataset[key].append(frame)\n",
    "            except KeyError:\n",
    "                dataset[key] = [frame]\n",
    "        except (IndexError, KeyError):  # no camera data\n",
    "            pass\n",
    "\n",
    "    # concatenate datasets\n",
    "    camera_data = {}\n",
    "    for key, objs in dataset.items():\n",
    "        camera_data[key] = xr.concat(objs, \"shot_id\", combine_attrs=\"drop_conflicts\")\n",
    "        camera_data[key] = camera_data[key].rename({\"data\": \"frame\"})\n",
    "        del camera_data[key].attrs[\"mds_name\"]\n",
    "        del camera_data[key].attrs[\"CLASS\"]\n",
    "\n",
    "    return camera_data\n"
   ]
  },
  {
   "cell_type": "code",
   "execution_count": 5,
   "id": "1c2e8f2b",
   "metadata": {},
   "outputs": [],
   "source": [
    "def load_camera_data():\n",
    "    \"\"\"Return camera data, try to load from cache else build.\"\"\"\n",
    "    path = pathlib.Path().absolute().parent / \"fair_mast_data/plasma_volume\"\n",
    "    filename = path / \"camera_data.pkl\"\n",
    "    try:\n",
    "        with open(filename, \"rb\") as f:\n",
    "            camera_data = pickle.load(f)\n",
    "    except FileNotFoundError:\n",
    "        camera_data = build_camera_data()\n",
    "        with open(filename, \"wb\") as f:\n",
    "            pickle.dump(camera_data, f)\n",
    "    return camera_data\n"
   ]
  },
  {
   "cell_type": "code",
   "execution_count": 9,
   "id": "bfc0f810",
   "metadata": {},
   "outputs": [
    {
     "name": "stdout",
     "output_type": "stream",
     "text": [
      "c:\\Users\\brussel\\Documents\\1. ITER Internship\\ITER-data-science-challenges\\.venv\\Lib\\site-packages\\certifi\\cacert.pem\n"
     ]
    }
   ],
   "source": [
    "import certifi\n",
    "print(certifi.where())"
   ]
  },
  {
   "cell_type": "code",
   "execution_count": 10,
   "id": "5485a70c",
   "metadata": {},
   "outputs": [],
   "source": [
    "import ssl\n",
    "ssl._create_default_https_context = ssl._create_unverified_context"
   ]
  },
  {
   "cell_type": "code",
   "execution_count": 11,
   "id": "a0e24d5f",
   "metadata": {},
   "outputs": [
    {
     "name": "stderr",
     "output_type": "stream",
     "text": [
      "Loading camera data: 100%|██████████| 1090/1090 [24:52<00:00,  1.37s/it]\n"
     ]
    },
    {
     "data": {
      "image/png": "[encoded data removed]",
      "text/plain": [
       "<Figure size 640x480 with 1 Axes>"
      ]
     },
     "metadata": {},
     "output_type": "display_data"
    }
   ],
   "source": [
    "camera_data = load_camera_data()\n",
    "\n",
    "# plot image size histogram\n",
    "sizes = [data.sizes[\"shot_id\"] for data in camera_data.values()]\n",
    "plt.bar([str(key) for key in camera_data], sizes)\n",
    "plt.xlabel('image size')\n",
    "plt.ylabel('image number')\n",
    "plt.xticks(rotation=90)\n",
    "sns.despine()"
   ]
  },
  {
   "cell_type": "code",
   "execution_count": 12,
   "id": "03d43e20",
   "metadata": {},
   "outputs": [],
   "source": [
    "test_size = 0.3  # fraction of dataset to use for testing\n",
    "dataset = load_camera_data()[(448, 640)]\n",
    "dataset = dataset.drop_vars([\"time\", \"shot_id\"])  # anonymize dataset \n",
    "\n",
    "# shuffle dataset\n",
    "shot_index = np.arange(dataset.sizes[\"shot_id\"], dtype=int)\n",
    "rng = np.random.default_rng(7)\n",
    "rng.shuffle(shot_index)\n",
    "test_split = int(np.floor(test_size * dataset.sizes[\"shot_id\"]))\n",
    "\n",
    "train = dataset.isel(shot_id=shot_index[test_split:])\n",
    "test = dataset.isel(shot_id=shot_index[:test_split])\n",
    "solution = test.volume.to_pandas().to_frame()\n",
    "rng.random(len(solution))\n",
    "solution[\"Usage\"] = np.where(rng.random(len(solution)) < 0.5, \"Public\", \"Private\")\n",
    "\n",
    "test = test.drop_vars(\"volume\")  # drop target from test dataset\n",
    "\n",
    "# write datasets to file\n",
    "path = pathlib.Path().absolute().parent / \"fair_mast_data/plasma_volume\"\n",
    "train.to_netcdf(path / \"train.nc\")\n",
    "test.to_netcdf(path / \"test.nc\")\n",
    "solution.to_csv(path / \"solution.csv\")"
   ]
  },
  {
   "cell_type": "code",
   "execution_count": null,
   "id": "8e89292c",
   "metadata": {},
   "outputs": [],
   "source": []
  }
 ],
 "metadata": {
  "kernelspec": {
   "display_name": "Python (data-science-challenges)",
   "language": "python",
   "name": "data-science-challenges"
  },
  "language_info": {
   "codemirror_mode": {
    "name": "ipython",
    "version": 3
   },
   "file_extension": ".py",
   "mimetype": "text/x-python",
   "name": "python",
   "nbconvert_exporter": "python",
   "pygments_lexer": "ipython3",
   "version": "3.11.9"
  }
 },
 "nbformat": 4,
 "nbformat_minor": 5
}
